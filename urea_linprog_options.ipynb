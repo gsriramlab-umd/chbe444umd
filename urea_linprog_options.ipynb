{
 "cells": [
  {
   "cell_type": "markdown",
   "id": "86193c6d-594c-4bb1-8a31-7ad4698aad1b",
   "metadata": {},
   "source": [
    "# CHBE444: Design I, University of Maryland\n",
    "### Prof. Ganesh Sriram, gsriram@umd.edu\n",
    "### E.02 and HW 2 Urea Reaction Path LP"
   ]
  },
  {
   "cell_type": "markdown",
   "id": "9b3266c9-6d4a-479f-a14f-f6ff1eff9ad7",
   "metadata": {},
   "source": [
    "# How to Use ``linprog`` When Objective Function Needs to Be Maximized or Contains a Constant\n",
    "\n",
    "The SciPy function ``linprog`` is a minimization algorithm, designed to find the minimum of an LP. Additionally, it does not accept an objective function with a constant term. This short tutorial goes over how to hack ``linprog`` for these scenarios. \n",
    "\n",
    "For demonstration, we will use the familiar urea LP in $[x_1, x_3]$ axes, with the objective function being the yield of urea: $z = \\frac{1}{2}x_3$. Thus, the minimum of $z$ in the feasible space is located at $(1,2)$ with $z_{min} = 1$, and the maximum is located at $(1.5,3)$ with $z_{max} = 1.5$. Refer to the feasible space plot at the end of this notebook."
   ]
  },
  {
   "cell_type": "markdown",
   "id": "ce61a05a-4861-4ce7-8314-dd686dc6d9b8",
   "metadata": {},
   "source": [
    "## Using ``linprog`` to Find Minimum"
   ]
  },
  {
   "cell_type": "code",
   "execution_count": 1,
   "id": "95ced0ab-fc00-4f15-9d11-ca649ab7905a",
   "metadata": {},
   "outputs": [
    {
     "name": "stdout",
     "output_type": "stream",
     "text": [
      "Optimal x: [1. 2.]\n",
      "Optimal z: 1.0\n"
     ]
    }
   ],
   "source": [
    "import scipy.optimize as opt\n",
    "\n",
    "# Urea reaction path LP with CO constraint\n",
    "\n",
    "c = [0,1/2]  # objective function\n",
    "\n",
    "A = [[1,-1/2],[-1/3,1/2],[-1,0]]  # inequality constraint matrix\n",
    "b = [0,1,-1]  # inequality constraint vector\n",
    "\n",
    "res = opt.linprog(c,A,b,A_eq=None,b_eq=None,bounds=[0,None],method='highs')\n",
    "\n",
    "print('Optimal x:',res.x)\n",
    "print('Optimal z:',res.fun)"
   ]
  },
  {
   "cell_type": "markdown",
   "id": "91eaa1a9-1773-4bfe-bf2c-dc0841c9a1ec",
   "metadata": {},
   "source": [
    "#### Summary\n",
    "+ In the cell above, the vector $\\bf{c}$ was defined as $[ 0 \\ \\frac{1}{2}]$, i.e., $z = 0x_1 + \\frac{1}{2}x_3 = \\frac{1}{2}x_3$.\n",
    "+ The minimum of this function in the feasible space is located at $(1,2)$ with $z_{min} = 1$.\n",
    "+ Unsurprisingly, ``linprog`` found this minimum because that is what it is designed to do."
   ]
  },
  {
   "cell_type": "markdown",
   "id": "036eb90d-da14-4fea-b28d-0c9a1a2779ce",
   "metadata": {},
   "source": [
    "## Using ``linprog`` to Find Maximum\n",
    "\n",
    "If we need to find the maximum of $z$, we should ask ``linprog`` to find the minimum of $-z$, because the minimum of $-z$ is the negative of the maximum of $z$. The code for this is:"
   ]
  },
  {
   "cell_type": "code",
   "execution_count": 2,
   "id": "cd9bcd30-0664-4644-bb06-f6a794045803",
   "metadata": {},
   "outputs": [
    {
     "name": "stdout",
     "output_type": "stream",
     "text": [
      "Optimal x: [1.5 3. ]\n",
      "Optimal z: 1.4999999999999998\n"
     ]
    }
   ],
   "source": [
    "c = [0,-1/2]  # objective function is negated\n",
    "\n",
    "# A and b do not have to be defined again if the previous cell was run and the kernel was not restarted\n",
    "\n",
    "res = opt.linprog(c,A,b,A_eq=None,b_eq=None,bounds=[0,None],method='highs')\n",
    "\n",
    "print('Optimal x:',res.x)\n",
    "print('Optimal z:',-res.fun)  # negative sign on z removed at this step (-res.fun instead of res.fun)"
   ]
  },
  {
   "cell_type": "markdown",
   "id": "64e43496-1ec8-4597-995a-cf233b9601cd",
   "metadata": {},
   "source": [
    "#### Summary\n",
    "+ This time, ``linprog`` found the maximum of the function because we made it do so.\n",
    "+ ``linprog`` minimizes, so when maximizing, you solve ``min(-z)`` and then negate the objective returned by ``linprog``."
   ]
  },
  {
   "cell_type": "markdown",
   "id": "f000cd7f-d8d0-42df-ab22-2a697269a7b4",
   "metadata": {},
   "source": [
    "## Finding Minimum When Objective Function Has a Constant\n",
    "\n",
    "Suppose the objective function had a constant term, say, $z = \\frac{1}{2}x_3 + \\frac{3}{4}$. ``linprog`` does not accept the constant term. However, since this term $\\frac{3}{4}$ is constant and does not vary with $x_1$ or $x_3$, the minimum of $z$ will be the minimum of $\\frac{1}{2}x_3$ plus $\\frac{3}{4}$. Thus, we can initially define $z$ by leaving out the constant term, and add it at the end, as follows."
   ]
  },
  {
   "cell_type": "code",
   "execution_count": 3,
   "id": "43382758-912a-413c-8431-aa0f141570e5",
   "metadata": {},
   "outputs": [
    {
     "name": "stdout",
     "output_type": "stream",
     "text": [
      "Optimal x: [1. 2.]\n",
      "Optimal z: 1.75\n"
     ]
    }
   ],
   "source": [
    "c = [0,1/2]  # objective function without the constant\n",
    "\n",
    "# A and b do not have to be defined again if the previous cell was run and the kernel was not restarted\n",
    "\n",
    "res = opt.linprog(c,A,b,A_eq=None,b_eq=None,bounds=[0,None],method='highs')\n",
    "\n",
    "print('Optimal x:',res.x)\n",
    "print('Optimal z:',res.fun+3/4)  # constant is added at this step"
   ]
  },
  {
   "cell_type": "markdown",
   "id": "42b8471b-a76d-46ad-93d2-96dda77e25a4",
   "metadata": {},
   "source": [
    "#### Summary\n",
    "+ As expected, we got the minimum $z_{min} = 1.75$ at $(1,2)$.\n",
    "+ ``linprog`` does not accept a constant in the objective function. So when a constant is present, add it to the objective returned by ``linprog``."
   ]
  },
  {
   "cell_type": "markdown",
   "id": "9cc04f9d-2cb9-4c4c-8a2a-21ff6ad6952f",
   "metadata": {},
   "source": [
    "## Finding Maximum When Objective Function Has a Constant\n",
    "\n",
    "Let us combine all the preceding tricks to find the maximum of $z = \\frac{1}{2}x_3 + \\frac{3}{4}$ in the same feasible space. We can do this by asking ``linprog`` to find its minimum of $-z$ without the constant term. At the end, we can remove the negative sign and add the constant term."
   ]
  },
  {
   "cell_type": "code",
   "execution_count": 4,
   "id": "b366ec43-4ff1-482a-8e44-ce4a45ba7266",
   "metadata": {},
   "outputs": [
    {
     "name": "stdout",
     "output_type": "stream",
     "text": [
      "Optimal x: [1.5 3. ]\n",
      "Optimal z: 2.25\n"
     ]
    }
   ],
   "source": [
    "c = [0,-1/2]  # objective function is negated, there is no constant\n",
    "\n",
    "# A and b do not have to be defined again if the previous cell was run and the kernel was not restarted\n",
    "\n",
    "res = opt.linprog(c,A,b,A_eq=None,b_eq=None,bounds=[0,None],method='highs')\n",
    "\n",
    "print('Optimal x:',res.x)\n",
    "print('Optimal z:',-res.fun+3/4)  # negative sign on z removed and constant added"
   ]
  },
  {
   "cell_type": "markdown",
   "id": "72a03f4d-54d9-41e5-a4ec-70aec39d1036",
   "metadata": {},
   "source": [
    "#### Summary\n",
    "+ As expected, we got the maximum $z_{max} = 2.25$ at $(1.5,3)$. \n",
    "+ Remember that ``linprog`` minimizes, so when maximizing, you solve ``min(-z)`` and then negate the objective returned; when a constant is present, add it after negation."
   ]
  },
  {
   "cell_type": "markdown",
   "id": "3c168a65-205e-4880-a06f-5933a114b748",
   "metadata": {},
   "source": [
    "## Desmos Plot of Feasible Space"
   ]
  },
  {
   "cell_type": "code",
   "execution_count": 1,
   "id": "c18883c7-2fdb-4b74-87c2-f81d704d17da",
   "metadata": {},
   "outputs": [
    {
     "data": {
      "text/html": [
       "\n",
       "        <iframe\n",
       "            width=\"100%\"\n",
       "            height=\"400\"\n",
       "            src=\"urea_graph.html\"\n",
       "            frameborder=\"0\"\n",
       "            allowfullscreen\n",
       "            \n",
       "        ></iframe>\n",
       "        "
      ],
      "text/plain": [
       "<IPython.lib.display.IFrame at 0x29454754440>"
      ]
     },
     "execution_count": 1,
     "metadata": {},
     "output_type": "execute_result"
    }
   ],
   "source": [
    "import chbe444umd as des\n",
    "\n",
    "expressions = [{'id':'x1', 'latex':'x_1=x', 'hidden':True},  # define x1 as the 'x' variable, x1 is typed as x_1\n",
    "               {'id':'x3', 'latex':'x_3=y', 'hidden':True},  # define x3 as the 'y' variable, x3 is typed as x_3\n",
    "               {'id':'const1', 'latex':'x_1-x_3/2<=0', 'color':'#0000ff', 'fillOpacity':0.2},\n",
    "               {'id':'const2', 'latex':'-x_1/3+x_3/2<=1', 'color':'#0000ff', 'fillOpacity':0.2},\n",
    "               {'id':'const3', 'latex':'-x_1<=-1', 'color':'#0000ff', 'fillOpacity':0.2},\n",
    "               {'id':'const4', 'latex':'-x_1<=0', 'color':'#0000ff', 'fillOpacity':0.2},\n",
    "               {'id':'const5', 'latex':'-x_3<=0', 'color':'#0000ff', 'fillOpacity':0.2},\n",
    "               {'id':'obj', 'latex':'x_3/2=z', 'color':'#000000', 'fillOpacity':1}]\n",
    "\n",
    "sliders =[{'variable':'z', 'min':'0', 'max':'4', 'step':'0.1'}]\n",
    "\n",
    "points = [{'id':'maxpt', 'latex':'(3/2,3)', 'label':'`(1.5,3)`', 'showLabel':True, 'color':'#000000', 'font':1},\n",
    "          {'id':'max', 'latex':'(3/2,3)', 'label':'`z_{max} = 1.5`', 'showLabel':True, 'color':'#000000', 'font':1},\n",
    "          {'id':'minpt', 'latex':'(1,2)', 'label':'`(1,2)`', 'showLabel':True, 'color':'#000000', 'font':1},\n",
    "          {'id':'min', 'latex':'(1,2)', 'label':'`z_{min} = 1`', 'showLabel':True, 'color':'#000000', 'font':1}]\n",
    "\n",
    "graph_html = des.desmos_graph(expressions,sliders,points,axlim=[-0.2,4,-0.2,4],size=[1000,600])\n",
    "\n",
    "with open('urea_graph.html',\"w\",encoding=\"utf-8\") as f:\n",
    "    f.write(graph_html.get_value())\n",
    " \n",
    "from IPython.display import IFrame\n",
    "IFrame('urea_graph.html',width='100%',height=400)"
   ]
  },
  {
   "cell_type": "code",
   "execution_count": null,
   "id": "b85da4af-4aee-458d-88c7-dee988b3c83e",
   "metadata": {},
   "outputs": [],
   "source": []
  }
 ],
 "metadata": {
  "kernelspec": {
   "display_name": "Python 3 (ipykernel)",
   "language": "python",
   "name": "python3"
  },
  "language_info": {
   "codemirror_mode": {
    "name": "ipython",
    "version": 3
   },
   "file_extension": ".py",
   "mimetype": "text/x-python",
   "name": "python",
   "nbconvert_exporter": "python",
   "pygments_lexer": "ipython3",
   "version": "3.13.5"
  }
 },
 "nbformat": 4,
 "nbformat_minor": 5
}
