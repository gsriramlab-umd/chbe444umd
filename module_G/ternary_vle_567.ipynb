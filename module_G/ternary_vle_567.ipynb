{
 "cells": [
  {
   "cell_type": "markdown",
   "id": "88480198-005c-4906-a4ea-ac6a9ddbce4a",
   "metadata": {
    "jp-MarkdownHeadingCollapsed": true,
    "tags": []
   },
   "source": [
    "### Pentane-Hexane-Heptane (Ideal)"
   ]
  },
  {
   "cell_type": "code",
   "execution_count": null,
   "id": "37ff4158-897b-44e1-82cd-a1b1e8e65ca2",
   "metadata": {
    "scrolled": true
   },
   "outputs": [],
   "source": [
    "%config InlineBackend.figure_format='svg'\n",
    "%matplotlib inline\n",
    "\n",
    "import chbe444umd as des\n",
    "\n",
    "sys567 = des.make_system(components={'pen', 'hex', 'hep'},\n",
    "                          Antoine={'pen': {'A': 3.989,\n",
    "                                           'B': 1070.617,\n",
    "                                           'C': -40.454},\n",
    "                                   'hex': {'A': 4.00266,\n",
    "                                           'B': 1171.53,\n",
    "                                           'C': -48.784},\n",
    "                                   'hep': {'A': 4.02832,\n",
    "                                           'B': 1268.636,\n",
    "                                           'C': -56.199}},\n",
    "                          Wilson_a={'pen': {'pen': 0,\n",
    "                                            'hex': 0,\n",
    "                                            'hep': 0},\n",
    "                                    'hex': {'pen': 0,\n",
    "                                            'hex': 0,\n",
    "                                            'hep': 0},\n",
    "                                    'hep': {'pen': 0,\n",
    "                                            'hex': 0,\n",
    "                                            'hep': 0}},\n",
    "                          Wilson_b={'pen': {'pen': 0,\n",
    "                                            'hex': 0,\n",
    "                                            'hep': 0},\n",
    "                                    'hex': {'pen': 0,\n",
    "                                            'hex': 0,\n",
    "                                            'hep': 0},\n",
    "                                    'hep': {'pen': 0,\n",
    "                                            'hex': 0,\n",
    "                                            'hep': 0}})\n",
    "\n",
    "ax567 = {'pen': 0, 'hep': 1}\n",
    "    # Components on axes 0 (x-axis) and 1 (y-axis) must be explicitly specified\n",
    "    # in this format. Specifying the implicit component (axis 2) is optional.\n",
    "\n",
    "vle3 = des.vle_calc(\n",
    "    sys567, ax567,\n",
    "    n_vectors=51, arrow_scale=51,\n",
    "    contour_T_heavy=10, contour_T_medium=5, contour_T_light=1,\n",
    "    plot_residue=False,\n",
    "    residue_feeds={0: {'pen': 0.33, 'hex': 0.34, 'hep': 0.33},\n",
    "                   1: {'pen': 0.32, 'hex': 0.28, 'hep': 0.40}})\n",
    "\n",
    "    # n_vectors: number of e-vectors along each axis\n",
    "    # arrow_scale: scale of arrows on equilibrium field\n",
    "    #   (set approximately equal to n_vector)\n",
    "    # tolerance to establish right triangle (set as slightly less than zero,\n",
    "    #   e.g., -1e-6)\n",
    "    # contour_heavy_T: heavy (and labeled) temperature contours are\n",
    "    #   incremented by this temperature in °C\n",
    "    # contour_medium_T: medium temperature contours are incremented by this\n",
    "    #   temperature in °C\n",
    "    # contour_light_T: light temperature contours are incremented by this\n",
    "    #   temperature in °C\n",
    "    # plot_residue: indicates whether or not residue curve will be plotted\n",
    "    #   through the feed point\n",
    "    # feed: coordinates of residue curve feed point\n",
    "\n",
    "vle3.plt.savefig('penhexhep.svg', format='svg', bbox_inches='tight', pad_inches=0)"
   ]
  },
  {
   "cell_type": "markdown",
   "id": "ef390d3c-ce89-4f5e-b803-c528c48842a1",
   "metadata": {
    "jp-MarkdownHeadingCollapsed": true
   },
   "source": [
    "#### Equilibrium and Flash Calculations"
   ]
  },
  {
   "cell_type": "code",
   "execution_count": null,
   "id": "fd6b73c0-83c2-42cc-8fd0-2e5d841d4020",
   "metadata": {},
   "outputs": [],
   "source": [
    "x = [0.32, 0.40, 0.28]\n",
    "print(vle3.mix_props(x))"
   ]
  },
  {
   "cell_type": "code",
   "execution_count": null,
   "id": "68b5e819-5e17-4713-b71f-a18773479dfb",
   "metadata": {},
   "outputs": [],
   "source": [
    "x = [0.33, 0.33, 0.34]\n",
    "print(vle3.mix_props(x))"
   ]
  },
  {
   "cell_type": "code",
   "execution_count": null,
   "id": "572a35d9-3b31-4c1c-88ab-a4d5606a436e",
   "metadata": {
    "scrolled": true
   },
   "outputs": [],
   "source": [
    "x = [0.32, 0.40, 0.28]\n",
    "y = vle3.mix_props(x).yeq\n",
    "\n",
    "fig, ax = vle3.duplicate(vle3.fig)\n",
    "ax.plot([x[0], y[0]], [x[1], y[1]], 'k-')\n",
    "ax.plot(x[0], x[1], 'bo', markersize=6)\n",
    "ax.plot(y[0], y[1], 'ro', markersize=6)\n",
    "\n",
    "fig"
   ]
  },
  {
   "cell_type": "code",
   "execution_count": null,
   "id": "a2f11956-f9ce-4a12-9c9d-2b0a8eb76eb8",
   "metadata": {
    "scrolled": true
   },
   "outputs": [],
   "source": [
    "xF = [0.33, 0.33, 0.34]\n",
    "\n",
    "res = vle3.flashT(xF, 72)\n",
    "\n",
    "print(res)\n",
    "x = res.x\n",
    "y = res.y\n",
    "\n",
    "fig, ax = vle3.duplicate(vle3.fig)\n",
    "ax.plot([x[0], xF[0], y[0]], [x[1], xF[1], y[1]], 'k-')\n",
    "ax.plot(x[0], x[1], 'bo', markersize=6)\n",
    "ax.plot(xF[0], xF[1], 'ko', markersize=6)\n",
    "ax.plot(y[0], y[1], 'ro', markersize=6)\n",
    "\n",
    "fig"
   ]
  },
  {
   "cell_type": "code",
   "execution_count": null,
   "id": "afcbc90e-c4e9-4cc0-b0fa-213f46036cd9",
   "metadata": {
    "scrolled": true
   },
   "outputs": [],
   "source": [
    "xF = [0.33, 0.33, 0.34]\n",
    "\n",
    "res = vle3.flashVfrac(xF, 0.68)\n",
    "\n",
    "print(res)\n",
    "x = res.x\n",
    "y = res.y\n",
    "\n",
    "fig, ax = vle3.duplicate(vle3.fig)\n",
    "ax.plot([x[0], xF[0], y[0]], [x[1], xF[1], y[1]], 'k-')\n",
    "ax.plot(x[0], x[1], 'bo', markersize=6)\n",
    "ax.plot(xF[0], xF[1], 'ko', markersize=6)\n",
    "ax.plot(y[0], y[1], 'ro', markersize=6)\n",
    "\n",
    "fig"
   ]
  },
  {
   "cell_type": "code",
   "execution_count": null,
   "id": "e87247f4-4557-4629-aa70-a4220cac2471",
   "metadata": {},
   "outputs": [],
   "source": [
    "vle3.flash_bfd(res);"
   ]
  },
  {
   "cell_type": "markdown",
   "id": "c695f1cd-f9d7-442d-b2f9-1567ddd480d5",
   "metadata": {
    "jp-MarkdownHeadingCollapsed": true
   },
   "source": [
    "#### Distillation Calculations"
   ]
  },
  {
   "cell_type": "code",
   "execution_count": null,
   "id": "0eff4f0f-b1b0-4514-add7-10ad478ecd8d",
   "metadata": {},
   "outputs": [],
   "source": [
    "res = vle3.distill(xF=[0.33, 0.33, 0.34],\n",
    "                   xD=[0.8764, 0.0064, 0.1172],\n",
    "                   D=0.2640,\n",
    "                   r=5,\n",
    "                   q=1,\n",
    "                   nstg=4,\n",
    "                   fstg=None,\n",
    "                   mode='minstages')\n",
    "\n",
    "print(res)\n",
    "# print(res.xLr)\n",
    "# print(res.xLs)"
   ]
  },
  {
   "cell_type": "code",
   "execution_count": null,
   "id": "dd776563-be5f-422c-beda-ec38a6ffd900",
   "metadata": {},
   "outputs": [],
   "source": [
    "import numpy as np\n",
    "\n",
    "xF = res.xF\n",
    "xD = res.xD\n",
    "xB = res.xB\n",
    "\n",
    "xLr = res.xLr\n",
    "yVr = res.yVr\n",
    "xLs = res.xLs\n",
    "yVs = res.yVs\n",
    "nstg = res.nstg\n",
    "fstg = res.fstg\n",
    "\n",
    "fig, ax = vle3.duplicate(vle3.fig)\n",
    "ax.plot([xF[0], xD[0], xB[0]], [xF[1], xD[1], xB[1]], 'ko-', markersize=10)\n",
    "ax.text(xF[0], xF[1], '$x_F$ ', ha='right', va='top')\n",
    "ax.text(xD[0], xD[1], '$x_D$ ', ha='right', va='top')\n",
    "ax.text(xB[0], xB[1], '$x_B$ ', ha='right', va='top')\n",
    "\n",
    "delta = 0.01\n",
    "\n",
    "stages_r = np.size(xLr, 0)\n",
    "stages_s = np.size(xLs, 0)\n",
    "\n",
    "# R section \n",
    "\n",
    "ax.plot(xLr[:, 0], xLr[:, 1], 'bo-', markersize=5, linewidth=1)\n",
    "ax.plot(yVr[:, 0], yVr[:, 1], 'ro-', markersize=5, linewidth=1)\n",
    "\n",
    "for i in range(0, stages_r):\n",
    "    ax.text(xLr[i, 0] + delta, xLr[i, 1] + delta, str(i + 1), color='blue', fontsize=8)\n",
    "    ax.text(yVr[i, 0] + delta, yVr[i, 1] + delta, str(i + 1), color='red', fontsize=8)\n",
    "\n",
    "# S section\n",
    "\n",
    "ax.plot(xLs[:, 0], xLs[:, 1], 'bo--', markersize=5, linewidth=1)\n",
    "ax.plot(yVs[:, 0], yVs[:, 1], 'ro--', markersize=5, linewidth=1)\n",
    "\n",
    "for i in range(0, stages_s):\n",
    "    ax.text(xLs[i, 0] + delta, xLs[i, 1] + delta, str(i + 1), color='blue', fontsize=8)\n",
    "    ax.text(yVs[i, 0] + delta, yVs[i, 1] + delta, str(i + 1), color='red', fontsize=8)\n",
    "\n",
    "fig"
   ]
  },
  {
   "cell_type": "code",
   "execution_count": null,
   "id": "c128650b-c880-4caa-afcc-a8ba3dc55b1f",
   "metadata": {
    "scrolled": true
   },
   "outputs": [],
   "source": [
    "res = vle3.distill(xF=[0.33, 0.33, 0.34],\n",
    "                   xD=[0.8764, 0.0064, 0.1172],\n",
    "                   D=0.2640,\n",
    "                   r=0.9,\n",
    "                   q=1,\n",
    "                   nstg=None,\n",
    "                   fstg=None,\n",
    "                   mode='minreflux')\n",
    "\n",
    "print(res)"
   ]
  },
  {
   "cell_type": "code",
   "execution_count": null,
   "id": "a3d67600-1e19-4a45-bd1b-dc35a5d512d3",
   "metadata": {},
   "outputs": [],
   "source": [
    "import numpy as np\n",
    "\n",
    "xF = res.xF\n",
    "xD = res.xD\n",
    "xB = res.xB\n",
    "\n",
    "xLr = res.xLr\n",
    "yVr = res.yVr\n",
    "xLs = res.xLs\n",
    "yVs = res.yVs\n",
    "nstg = res.nstg\n",
    "fstg = res.fstg\n",
    "\n",
    "fig, ax = vle3.duplicate(vle3.fig)\n",
    "ax.plot([xF[0], xD[0], xB[0]], [xF[1], xD[1], xB[1]], 'ko-', markersize=10)\n",
    "ax.text(xF[0], xF[1], '$x_F$ ', ha='right', va='top')\n",
    "ax.text(xD[0], xD[1], '$x_D$ ', ha='right', va='top')\n",
    "ax.text(xB[0], xB[1], '$x_B$ ', ha='right', va='top')\n",
    "\n",
    "delta = 0.01\n",
    "\n",
    "stages_r = np.size(xLr, 0)\n",
    "stages_s = np.size(xLs, 0)\n",
    "\n",
    "# R section \n",
    "\n",
    "ax.plot(xLr[:, 0], xLr[:, 1], 'bo-', markersize=5, linewidth=1)\n",
    "ax.plot(yVr[:, 0], yVr[:, 1], 'ro-', markersize=5, linewidth=1)\n",
    "\n",
    "for i in range(0, stages_r):\n",
    "    ax.text(xLr[i, 0] + delta, xLr[i, 1] + delta, str(i + 1), color='blue', fontsize=8)\n",
    "    ax.text(yVr[i, 0] + delta, yVr[i, 1] + delta, str(i + 1), color='red', fontsize=8)\n",
    "\n",
    "# S section\n",
    "\n",
    "ax.plot(xLs[:, 0], xLs[:, 1], 'bo--', markersize=5, linewidth=1)\n",
    "ax.plot(yVs[:, 0], yVs[:, 1], 'ro--', markersize=5, linewidth=1)\n",
    "\n",
    "for i in range(0, stages_s):\n",
    "    ax.text(xLs[i, 0] + delta, xLs[i, 1] + delta, str(i + 1), color='blue', fontsize=8)\n",
    "    ax.text(yVs[i, 0] + delta, yVs[i, 1] + delta, str(i + 1), color='red', fontsize=8)\n",
    "\n",
    "fig"
   ]
  },
  {
   "cell_type": "code",
   "execution_count": null,
   "id": "511f733c-5221-4eb6-bd70-8ac4ff09cd34",
   "metadata": {},
   "outputs": [],
   "source": [
    "vle3.distill_bfd(res);"
   ]
  }
 ],
 "metadata": {
  "kernelspec": {
   "display_name": "Python 3 (ipykernel)",
   "language": "python",
   "name": "python3"
  },
  "language_info": {
   "codemirror_mode": {
    "name": "ipython",
    "version": 3
   },
   "file_extension": ".py",
   "mimetype": "text/x-python",
   "name": "python",
   "nbconvert_exporter": "python",
   "pygments_lexer": "ipython3",
   "version": "3.13.5"
  }
 },
 "nbformat": 4,
 "nbformat_minor": 5
}
