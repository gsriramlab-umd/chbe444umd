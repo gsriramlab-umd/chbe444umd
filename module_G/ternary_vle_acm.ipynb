{
 "cells": [
  {
   "cell_type": "markdown",
   "id": "395ac08b-e766-4e68-bccd-4baa140b0fd0",
   "metadata": {
    "jp-MarkdownHeadingCollapsed": true,
    "tags": []
   },
   "source": [
    "### Acetone-Chloroform-Methanol (Nonideal)"
   ]
  },
  {
   "cell_type": "code",
   "execution_count": null,
   "id": "f6a3635d-da60-49ce-af94-4e622c633fd6",
   "metadata": {},
   "outputs": [],
   "source": [
    "%config InlineBackend.figure_format='svg'\n",
    "%matplotlib inline\n",
    "\n",
    "import chbe444umd as des\n",
    "\n",
    "sysACM = des.make_system(components = {'acetone', 'methanol', 'chloroform'},\n",
    "                Antoine = {'acetone':\n",
    "                           {'A': 4.4245, 'B': 1312.3, 'C': -32.445},\n",
    "                           'methanol':\n",
    "                           {'A': 5.2041, 'B': 1581.3, 'C': -33.5},\n",
    "                           'chloroform':\n",
    "                           {'A': 4.2077, 'B': 1233.1, 'C': -40.9530}},\n",
    "                Wilson_a = {'acetone':\n",
    "                            {'acetone': 0,\n",
    "                             'methanol': 0,\n",
    "                             'chloroform': -0.7683},\n",
    "                            'methanol':\n",
    "                            {'acetone': 0,\n",
    "                             'methanol': 0,\n",
    "                             'chloroform': 0},\n",
    "                            'chloroform':\n",
    "                            {'acetone': -0.7191,\n",
    "                             'methanol': 0,\n",
    "                             'chloroform': 0}},\n",
    "                Wilson_b = {'acetone':\n",
    "                            {'acetone': 0,\n",
    "                             'methanol': -115.663,\n",
    "                             'chloroform': 262.1790},\n",
    "                            'methanol':\n",
    "                            {'acetone': -108.5260,\n",
    "                             'methanol': 0,\n",
    "                             'chloroform': -652.8960},\n",
    "                            'chloroform':\n",
    "                            {'acetone': 435.1440,\n",
    "                             'methanol': -32.5972,\n",
    "                             'chloroform': 0}})\n",
    "\n",
    "axACM = {'acetone': 0, 'methanol': 1}\n",
    "\n",
    "# Components on axes 0 (x-axis) and 1 (y-axis) must be explicitly specified\n",
    "# in this format. Specifying the implicit component (axis 2) is optional.\n",
    "\n",
    "vle3 = des.vle_calc(\n",
    "    sysACM, axACM, \n",
    "    n_vectors=51, arrow_scale=51,\n",
    "    Tmin=50, Tmax=70,\n",
    "    contour_T_heavy=1, contour_T_medium=0.5, contour_T_light=0.1,\n",
    "    plot_residue=True,\n",
    "    residue_feeds={0: {'acetone': 0.4, 'methanol': 0.2, 'chloroform': 0.4},\n",
    "                   1: {'acetone': 0.6, 'methanol': 0.2, 'chloroform': 0.2},\n",
    "                   2: {'acetone': 0.2, 'methanol': 0.60, 'chloroform': 0.2},\n",
    "                   3: {'acetone': 0.5, 'methanol': 0.4, 'chloroform': 0.1}},\n",
    "    integration_time=20, show_feeds=True)\n",
    "\n",
    "    # fsize: size of figure\n",
    "    # n_vectors: number of e-vectors along each axis\n",
    "    # arrow_scale: scale of arrows on equilibrium field\n",
    "    #   (set approximately equal to n_vector)\n",
    "    # tolerance to establish right triangle (set as slightly less than zero,\n",
    "    #   e.g., -1e-6)\n",
    "    # contour_heavy_T: heavy (and labeled) temperature contours are\n",
    "    #   incremented by this temperature in °C\n",
    "    # contour_medium_T: medium temperature contours are incremented by this\n",
    "    #   temperature in °C\n",
    "    # contour_light_T: light temperature contours are incremented by this\n",
    "    #   temperature in °C\n",
    "    # plot_residue: indicates whether or not residue curve will be plotted\n",
    "    #   through the feed point\n",
    "    # feed: coordinaets of residue curve feed point\n",
    "\n",
    "vle3.plt.savefig('ACM.svg', format='svg', bbox_inches='tight', pad_inches=0)"
   ]
  },
  {
   "cell_type": "markdown",
   "id": "4cb9cd70-f19b-4795-992c-4bb10d4fe00f",
   "metadata": {
    "jp-MarkdownHeadingCollapsed": true
   },
   "source": [
    "#### Equilibrium and Flash Calculations"
   ]
  },
  {
   "cell_type": "code",
   "execution_count": null,
   "id": "c361a18e-4c86-4888-afff-e6d6428822dc",
   "metadata": {},
   "outputs": [],
   "source": [
    "sysACM"
   ]
  },
  {
   "cell_type": "code",
   "execution_count": null,
   "id": "d8e6e10c-898a-49df-b64c-3c1926894e75",
   "metadata": {},
   "outputs": [],
   "source": [
    "x = [0.1, 0.6, 0.3]\n",
    "print(vle3.mix_props(x))"
   ]
  },
  {
   "cell_type": "code",
   "execution_count": null,
   "id": "3d943d1e-fba4-4b2c-b4c7-e9c4ef8e9488",
   "metadata": {},
   "outputs": [],
   "source": [
    "x = [0.1, 0.6, 0.3]\n",
    "y = vle3.mix_props(x).yeq\n",
    "\n",
    "fig, ax = vle3.duplicate(vle3.fig)\n",
    "ax.plot([x[0], y[0]], [x[1], y[1]], 'k-')\n",
    "ax.plot(x[0], x[1], 'bo', markersize=6)\n",
    "ax.plot(y[0], y[1], 'ro', markersize=6)\n",
    "\n",
    "fig"
   ]
  },
  {
   "cell_type": "code",
   "execution_count": null,
   "id": "54f396d0-3f68-4a0e-b3f1-2b7b6833746b",
   "metadata": {},
   "outputs": [],
   "source": [
    "xF = [0.1, 0.6, 0.3]\n",
    "\n",
    "res = vle3.flashT(xF, 57)\n",
    "\n",
    "print(res)\n",
    "x = res.x\n",
    "y = res.y\n",
    "\n",
    "fig, ax = vle3.duplicate(vle3.fig)\n",
    "ax.plot([x[0], xF[0], y[0]], [x[1], xF[1], y[1]], 'k-')\n",
    "ax.plot(x[0], x[1], 'bo', markersize=6)\n",
    "ax.plot(xF[0], xF[1], 'ko', markersize=6)\n",
    "ax.plot(y[0], y[1], 'ro', markersize=6)\n",
    "\n",
    "fig"
   ]
  }
 ],
 "metadata": {
  "kernelspec": {
   "display_name": "Python 3 (ipykernel)",
   "language": "python",
   "name": "python3"
  },
  "language_info": {
   "codemirror_mode": {
    "name": "ipython",
    "version": 3
   },
   "file_extension": ".py",
   "mimetype": "text/x-python",
   "name": "python",
   "nbconvert_exporter": "python",
   "pygments_lexer": "ipython3",
   "version": "3.13.5"
  }
 },
 "nbformat": 4,
 "nbformat_minor": 5
}
